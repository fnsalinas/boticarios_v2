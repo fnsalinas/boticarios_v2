{
 "cells": [
  {
   "cell_type": "code",
   "execution_count": 5,
   "id": "c7a7a0eb-1245-4e0a-9422-80ab3dc1112e",
   "metadata": {},
   "outputs": [],
   "source": [
    "from bs4 import BeautifulSoup\n",
    "from selenium.webdriver import Chrome\n",
    "from contextlib import closing\n",
    "from selenium.webdriver.chrome.options import Options\n",
    "import pandas as pd\n",
    "from datetime import datetime as dt\n",
    "import time\n",
    "\n",
    "def getRandomData(n=1):\n",
    "    start= dt.now()\n",
    "    dataList = []\n",
    "    for n in range(n):\n",
    "        dataList.append(getRandomPerson())\n",
    "    telapsed= dt.now()-start\n",
    "    print(f\"Time elapsed: {telapsed}\")\n",
    "    if n==1: return datalist[0]\n",
    "    return pd.concat(dataList, ignore_index=True, axis=0)\n",
    "\n",
    "def getRandomPerson():\n",
    "    options = Options()\n",
    "    options.add_argument('--ignore-certificate-errors')\n",
    "    options.add_argument('--headless')\n",
    "    options.add_argument('--disable-dev-shm-usage')\n",
    "    options.add_experimental_option('prefs',{'profile.managed_default_content_setings.images':2})\n",
    "    \n",
    "    cd = r\"C:\\Users\\FABIO\\OneDrive\\Documentos\\GitHub\\boticarios_v2\\scripts\\web_scraping\\assets\\chromedriver.exe\"\n",
    "    \n",
    "    try:\n",
    "        with closing(Chrome(executable_path = cd, options=options)) as br:\n",
    "            br.get(r\"https://www.fakenamegenerator.com/\")\n",
    "            soup = BeautifulSoup(br.page_source, \"html.parser\")\n",
    "            d1 = soup.findAll(name=\"div\", attrs={\"class\":\"address\"})[0]\n",
    "            name = d1.find_all(name=\"h3\")[0].text\n",
    "            address = d1.find_all(name=\"div\", attrs={\"class\":\"adr\"})[0].text.strip()\n",
    "\n",
    "            d2 = soup.findAll(name= \"dl\", attrs={\"class\": \"dl-horizontal\"})\n",
    "            data = {\"name\": name, \"address\": address}\n",
    "            for d in d2:\n",
    "                k = d.findAll(\"dt\")[0].text\n",
    "                v = d.findAll(\"dd\")[0].text\n",
    "                data[k] = v\n",
    "    except:\n",
    "        data = getRandomData()\n",
    "    return(pd.DataFrame.from_dict(data, orient = \"index\").T)"
   ]
  },
  {
   "cell_type": "code",
   "execution_count": 6,
   "id": "b734b83d-02be-43a2-9f50-1943419f263c",
   "metadata": {},
   "outputs": [
    {
     "name": "stdout",
     "output_type": "stream",
     "text": [
      "Time elapsed: 0:00:41.242873\n",
      "2021-10-12-23:04:29: Nro iteraciones: 1\n",
      "Time elapsed: 0:00:39.885559\n",
      "2021-10-12-23:06:09: Nro iteraciones: 2\n",
      "Time elapsed: 0:01:03.837889\n",
      "2021-10-12-23:08:13: Nro iteraciones: 3\n",
      "Time elapsed: 0:00:42.362594\n",
      "2021-10-12-23:09:55: Nro iteraciones: 4\n",
      "Time elapsed: 0:00:40.479710\n",
      "2021-10-12-23:11:36: Nro iteraciones: 5\n",
      "Time elapsed: 0:00:39.784412\n",
      "2021-10-12-23:13:16: Nro iteraciones: 6\n",
      "Time elapsed: 0:01:06.057152\n",
      "2021-10-12-23:15:26: Nro iteraciones: 7\n",
      "Time elapsed: 0:00:40.601440\n",
      "2021-10-12-23:17:06: Nro iteraciones: 8\n",
      "Time elapsed: 0:00:39.758389\n",
      "2021-10-12-23:18:46: Nro iteraciones: 9\n",
      "Time elapsed: 0:01:01.990650\n",
      "2021-10-12-23:20:52: Nro iteraciones: 10\n",
      "Time elapsed: 0:00:39.395988\n",
      "2021-10-12-23:22:32: Nro iteraciones: 11\n",
      "Time elapsed: 0:00:39.388132\n",
      "2021-10-12-23:24:11: Nro iteraciones: 12\n",
      "Time elapsed: 0:01:01.863058\n",
      "2021-10-12-23:26:17: Nro iteraciones: 13\n",
      "Time elapsed: 0:00:39.042902\n",
      "2021-10-12-23:27:56: Nro iteraciones: 14\n",
      "Time elapsed: 0:00:39.522015\n",
      "2021-10-12-23:29:35: Nro iteraciones: 15\n",
      "Time elapsed: 0:00:42.529039\n",
      "2021-10-12-23:31:18: Nro iteraciones: 16\n",
      "Time elapsed: 0:00:59.399599\n",
      "2021-10-12-23:33:17: Nro iteraciones: 17\n",
      "Time elapsed: 0:00:39.097620\n",
      "2021-10-12-23:34:57: Nro iteraciones: 18\n",
      "Time elapsed: 0:00:18.939463\n"
     ]
    },
    {
     "ename": "TypeError",
     "evalue": "'numpy.ndarray' object is not callable",
     "output_type": "error",
     "traceback": [
      "\u001b[1;31m---------------------------------------------------------------------------\u001b[0m",
      "\u001b[1;31mTypeError\u001b[0m                                 Traceback (most recent call last)",
      "\u001b[1;32m~\\AppData\\Local\\Temp/ipykernel_10696/4063604574.py\u001b[0m in \u001b[0;36m<module>\u001b[1;34m\u001b[0m\n\u001b[0;32m      1\u001b[0m \u001b[0mcnt\u001b[0m \u001b[1;33m=\u001b[0m \u001b[1;36m0\u001b[0m\u001b[1;33m\u001b[0m\u001b[1;33m\u001b[0m\u001b[0m\n\u001b[0;32m      2\u001b[0m \u001b[1;32mwhile\u001b[0m \u001b[1;32mTrue\u001b[0m\u001b[1;33m:\u001b[0m\u001b[1;33m\u001b[0m\u001b[1;33m\u001b[0m\u001b[0m\n\u001b[1;32m----> 3\u001b[1;33m     \u001b[0mdf\u001b[0m \u001b[1;33m=\u001b[0m \u001b[0mgetRandomData\u001b[0m\u001b[1;33m(\u001b[0m\u001b[1;36m10\u001b[0m\u001b[1;33m)\u001b[0m\u001b[1;33m\u001b[0m\u001b[1;33m\u001b[0m\u001b[0m\n\u001b[0m\u001b[0;32m      4\u001b[0m     \u001b[0mdf\u001b[0m\u001b[1;33m.\u001b[0m\u001b[0mto_csv\u001b[0m\u001b[1;33m(\u001b[0m\u001b[1;34mf\"random_Data{dt.now().strftime('%Y%m%d_%H%M%S')}.csv\"\u001b[0m\u001b[1;33m,\u001b[0m \u001b[0mindex\u001b[0m\u001b[1;33m=\u001b[0m\u001b[1;32mFalse\u001b[0m\u001b[1;33m,\u001b[0m \u001b[0msep\u001b[0m\u001b[1;33m=\u001b[0m\u001b[1;34m\"~\"\u001b[0m\u001b[1;33m)\u001b[0m\u001b[1;33m\u001b[0m\u001b[1;33m\u001b[0m\u001b[0m\n\u001b[0;32m      5\u001b[0m     \u001b[0mcnt\u001b[0m \u001b[1;33m+=\u001b[0m \u001b[1;36m1\u001b[0m\u001b[1;33m\u001b[0m\u001b[1;33m\u001b[0m\u001b[0m\n",
      "\u001b[1;32m~\\AppData\\Local\\Temp/ipykernel_10696/2215964533.py\u001b[0m in \u001b[0;36mgetRandomData\u001b[1;34m(n)\u001b[0m\n\u001b[0;32m     11\u001b[0m     \u001b[0mdataList\u001b[0m \u001b[1;33m=\u001b[0m \u001b[1;33m[\u001b[0m\u001b[1;33m]\u001b[0m\u001b[1;33m\u001b[0m\u001b[1;33m\u001b[0m\u001b[0m\n\u001b[0;32m     12\u001b[0m     \u001b[1;32mfor\u001b[0m \u001b[0mn\u001b[0m \u001b[1;32min\u001b[0m \u001b[0mrange\u001b[0m\u001b[1;33m(\u001b[0m\u001b[0mn\u001b[0m\u001b[1;33m)\u001b[0m\u001b[1;33m:\u001b[0m\u001b[1;33m\u001b[0m\u001b[1;33m\u001b[0m\u001b[0m\n\u001b[1;32m---> 13\u001b[1;33m         \u001b[0mdataList\u001b[0m\u001b[1;33m.\u001b[0m\u001b[0mappend\u001b[0m\u001b[1;33m(\u001b[0m\u001b[0mgetRandomPerson\u001b[0m\u001b[1;33m(\u001b[0m\u001b[1;33m)\u001b[0m\u001b[1;33m)\u001b[0m\u001b[1;33m\u001b[0m\u001b[1;33m\u001b[0m\u001b[0m\n\u001b[0m\u001b[0;32m     14\u001b[0m     \u001b[0mtelapsed\u001b[0m\u001b[1;33m=\u001b[0m \u001b[0mdt\u001b[0m\u001b[1;33m.\u001b[0m\u001b[0mnow\u001b[0m\u001b[1;33m(\u001b[0m\u001b[1;33m)\u001b[0m\u001b[1;33m-\u001b[0m\u001b[0mstart\u001b[0m\u001b[1;33m\u001b[0m\u001b[1;33m\u001b[0m\u001b[0m\n\u001b[0;32m     15\u001b[0m     \u001b[0mprint\u001b[0m\u001b[1;33m(\u001b[0m\u001b[1;34mf\"Time elapsed: {telapsed}\"\u001b[0m\u001b[1;33m)\u001b[0m\u001b[1;33m\u001b[0m\u001b[1;33m\u001b[0m\u001b[0m\n",
      "\u001b[1;32m~\\AppData\\Local\\Temp/ipykernel_10696/2215964533.py\u001b[0m in \u001b[0;36mgetRandomPerson\u001b[1;34m()\u001b[0m\n\u001b[0;32m     42\u001b[0m     \u001b[1;32mexcept\u001b[0m\u001b[1;33m:\u001b[0m\u001b[1;33m\u001b[0m\u001b[1;33m\u001b[0m\u001b[0m\n\u001b[0;32m     43\u001b[0m         \u001b[0mdata\u001b[0m \u001b[1;33m=\u001b[0m \u001b[0mgetRandomData\u001b[0m\u001b[1;33m(\u001b[0m\u001b[1;33m)\u001b[0m\u001b[1;33m\u001b[0m\u001b[1;33m\u001b[0m\u001b[0m\n\u001b[1;32m---> 44\u001b[1;33m     \u001b[1;32mreturn\u001b[0m\u001b[1;33m(\u001b[0m\u001b[0mpd\u001b[0m\u001b[1;33m.\u001b[0m\u001b[0mDataFrame\u001b[0m\u001b[1;33m.\u001b[0m\u001b[0mfrom_dict\u001b[0m\u001b[1;33m(\u001b[0m\u001b[0mdata\u001b[0m\u001b[1;33m,\u001b[0m \u001b[0morient\u001b[0m \u001b[1;33m=\u001b[0m \u001b[1;34m\"index\"\u001b[0m\u001b[1;33m)\u001b[0m\u001b[1;33m.\u001b[0m\u001b[0mT\u001b[0m\u001b[1;33m)\u001b[0m\u001b[1;33m\u001b[0m\u001b[1;33m\u001b[0m\u001b[0m\n\u001b[0m",
      "\u001b[1;32mc:\\users\\fabio\\miniconda3\\lib\\site-packages\\pandas\\core\\frame.py\u001b[0m in \u001b[0;36mfrom_dict\u001b[1;34m(cls, data, orient, dtype, columns)\u001b[0m\n\u001b[0;32m   1581\u001b[0m             \u001b[1;32mif\u001b[0m \u001b[0mlen\u001b[0m\u001b[1;33m(\u001b[0m\u001b[0mdata\u001b[0m\u001b[1;33m)\u001b[0m \u001b[1;33m>\u001b[0m \u001b[1;36m0\u001b[0m\u001b[1;33m:\u001b[0m\u001b[1;33m\u001b[0m\u001b[1;33m\u001b[0m\u001b[0m\n\u001b[0;32m   1582\u001b[0m                 \u001b[1;31m# TODO speed up Series case\u001b[0m\u001b[1;33m\u001b[0m\u001b[1;33m\u001b[0m\u001b[1;33m\u001b[0m\u001b[0m\n\u001b[1;32m-> 1583\u001b[1;33m                 \u001b[1;32mif\u001b[0m \u001b[0misinstance\u001b[0m\u001b[1;33m(\u001b[0m\u001b[0mlist\u001b[0m\u001b[1;33m(\u001b[0m\u001b[0mdata\u001b[0m\u001b[1;33m.\u001b[0m\u001b[0mvalues\u001b[0m\u001b[1;33m(\u001b[0m\u001b[1;33m)\u001b[0m\u001b[1;33m)\u001b[0m\u001b[1;33m[\u001b[0m\u001b[1;36m0\u001b[0m\u001b[1;33m]\u001b[0m\u001b[1;33m,\u001b[0m \u001b[1;33m(\u001b[0m\u001b[0mSeries\u001b[0m\u001b[1;33m,\u001b[0m \u001b[0mdict\u001b[0m\u001b[1;33m)\u001b[0m\u001b[1;33m)\u001b[0m\u001b[1;33m:\u001b[0m\u001b[1;33m\u001b[0m\u001b[1;33m\u001b[0m\u001b[0m\n\u001b[0m\u001b[0;32m   1584\u001b[0m                     \u001b[0mdata\u001b[0m \u001b[1;33m=\u001b[0m \u001b[0m_from_nested_dict\u001b[0m\u001b[1;33m(\u001b[0m\u001b[0mdata\u001b[0m\u001b[1;33m)\u001b[0m\u001b[1;33m\u001b[0m\u001b[1;33m\u001b[0m\u001b[0m\n\u001b[0;32m   1585\u001b[0m                 \u001b[1;32melse\u001b[0m\u001b[1;33m:\u001b[0m\u001b[1;33m\u001b[0m\u001b[1;33m\u001b[0m\u001b[0m\n",
      "\u001b[1;31mTypeError\u001b[0m: 'numpy.ndarray' object is not callable"
     ]
    }
   ],
   "source": [
    "cnt = 0\n",
    "while True:\n",
    "    df = getRandomData(10)\n",
    "    df.to_csv(f\"random_Data{dt.now().strftime('%Y%m%d_%H%M%S')}.csv\", index=False, sep=\"~\")\n",
    "    cnt += 1\n",
    "    print(f\"{dt.now().strftime('%Y-%m-%d-%H:%M:%S')}: Nro iteraciones: {cnt}\")\n",
    "    if cnt==1000: break\n",
    "    time.sleep(60)"
   ]
  },
  {
   "cell_type": "code",
   "execution_count": null,
   "id": "22f53b38-c03a-4266-862d-67bb633149f0",
   "metadata": {},
   "outputs": [],
   "source": []
  }
 ],
 "metadata": {
  "kernelspec": {
   "display_name": "Python 3 (ipykernel)",
   "language": "python",
   "name": "python3"
  },
  "language_info": {
   "codemirror_mode": {
    "name": "ipython",
    "version": 3
   },
   "file_extension": ".py",
   "mimetype": "text/x-python",
   "name": "python",
   "nbconvert_exporter": "python",
   "pygments_lexer": "ipython3",
   "version": "3.9.5"
  }
 },
 "nbformat": 4,
 "nbformat_minor": 5
}
